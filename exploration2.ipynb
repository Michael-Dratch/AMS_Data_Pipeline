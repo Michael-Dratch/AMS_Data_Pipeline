{
 "cells": [
  {
   "cell_type": "code",
   "execution_count": 1,
   "metadata": {},
   "outputs": [],
   "source": [
    "import pandas as pd\n"
   ]
  },
  {
   "cell_type": "code",
   "execution_count": 2,
   "metadata": {},
   "outputs": [
    {
     "name": "stderr",
     "output_type": "stream",
     "text": [
      "C:\\Users\\Owner\\AppData\\Local\\Temp\\ipykernel_16628\\2079392627.py:1: DtypeWarning: Columns (25,26,27) have mixed types. Specify dtype option on import or set low_memory=False.\n",
      "  header =  pd.read_csv(\"C:\\\\Users\\\\Owner\\\\Desktop\\\\AMS_DATA\\\\header\\\\ams__header_2020__202009291500_part_0.csv\")\n"
     ]
    }
   ],
   "source": [
    "header =  pd.read_csv(\"C:\\\\Users\\\\Owner\\\\Desktop\\\\AMS_DATA\\\\header\\\\ams__header_2020__202009291500_part_0.csv\")"
   ]
  },
  {
   "cell_type": "code",
   "execution_count": null,
   "metadata": {},
   "outputs": [],
   "source": [
    "header.head()"
   ]
  },
  {
   "cell_type": "code",
   "execution_count": 16,
   "metadata": {},
   "outputs": [],
   "source": [
    "ports_counts = header.groupby(\"port_of_unlading\")\\\n",
    "                    .count()\\\n",
    "                    .reset_index()"
   ]
  },
  {
   "cell_type": "code",
   "execution_count": null,
   "metadata": {},
   "outputs": [],
   "source": [
    "port_counts.head(30)"
   ]
  },
  {
   "cell_type": "code",
   "execution_count": 14,
   "metadata": {},
   "outputs": [],
   "source": [
    "ports_counts = ports_counts['port_of_unlading']"
   ]
  },
  {
   "cell_type": "code",
   "execution_count": null,
   "metadata": {},
   "outputs": [],
   "source": [
    "ports_counts.reset_index()"
   ]
  },
  {
   "cell_type": "code",
   "execution_count": 20,
   "metadata": {},
   "outputs": [],
   "source": [
    "import re"
   ]
  },
  {
   "cell_type": "code",
   "execution_count": 21,
   "metadata": {},
   "outputs": [],
   "source": [
    "ports_counts = ports_counts[ports_counts['port_of_unlading'].str.contains('[a-z,A-Z]') ]"
   ]
  },
  {
   "cell_type": "code",
   "execution_count": null,
   "metadata": {},
   "outputs": [],
   "source": [
    "ports_counts.head()"
   ]
  },
  {
   "cell_type": "code",
   "execution_count": 24,
   "metadata": {},
   "outputs": [],
   "source": [
    "ports = ports_counts[\"port_of_unlading\"]"
   ]
  },
  {
   "cell_type": "code",
   "execution_count": null,
   "metadata": {},
   "outputs": [],
   "source": [
    "ports.head()"
   ]
  },
  {
   "cell_type": "code",
   "execution_count": 27,
   "metadata": {},
   "outputs": [],
   "source": [
    "ports[\"first letter\"] = ports.str[0]"
   ]
  },
  {
   "cell_type": "code",
   "execution_count": 30,
   "metadata": {},
   "outputs": [],
   "source": [
    "df = pd.DataFrame(ports)"
   ]
  },
  {
   "cell_type": "code",
   "execution_count": 31,
   "metadata": {},
   "outputs": [
    {
     "data": {
      "text/html": [
       "<div>\n",
       "<style scoped>\n",
       "    .dataframe tbody tr th:only-of-type {\n",
       "        vertical-align: middle;\n",
       "    }\n",
       "\n",
       "    .dataframe tbody tr th {\n",
       "        vertical-align: top;\n",
       "    }\n",
       "\n",
       "    .dataframe thead th {\n",
       "        text-align: right;\n",
       "    }\n",
       "</style>\n",
       "<table border=\"1\" class=\"dataframe\">\n",
       "  <thead>\n",
       "    <tr style=\"text-align: right;\">\n",
       "      <th></th>\n",
       "      <th>port_of_unlading</th>\n",
       "    </tr>\n",
       "  </thead>\n",
       "  <tbody>\n",
       "    <tr>\n",
       "      <th>5</th>\n",
       "      <td>Aberdeen, Washington</td>\n",
       "    </tr>\n",
       "    <tr>\n",
       "      <th>6</th>\n",
       "      <td>Addison Airport, Addison, Texas</td>\n",
       "    </tr>\n",
       "    <tr>\n",
       "      <th>7</th>\n",
       "      <td>Albany, New York</td>\n",
       "    </tr>\n",
       "    <tr>\n",
       "      <th>8</th>\n",
       "      <td>Albuquerque, New Mexico</td>\n",
       "    </tr>\n",
       "    <tr>\n",
       "      <th>9</th>\n",
       "      <td>Alpena, Michigan</td>\n",
       "    </tr>\n",
       "  </tbody>\n",
       "</table>\n",
       "</div>"
      ],
      "text/plain": [
       "                  port_of_unlading\n",
       "5             Aberdeen, Washington\n",
       "6  Addison Airport, Addison, Texas\n",
       "7                 Albany, New York\n",
       "8          Albuquerque, New Mexico\n",
       "9                 Alpena, Michigan"
      ]
     },
     "execution_count": 31,
     "metadata": {},
     "output_type": "execute_result"
    }
   ],
   "source": [
    "df.head()"
   ]
  },
  {
   "cell_type": "code",
   "execution_count": 43,
   "metadata": {},
   "outputs": [],
   "source": [
    "df['state'] = df['port_of_unlading'].astype('string').apply(lambda name: name.split(',')[-1])\n"
   ]
  },
  {
   "cell_type": "code",
   "execution_count": 50,
   "metadata": {},
   "outputs": [],
   "source": [
    "df['city'] = df['port_of_unlading'].astype('string').apply(lambda name: name.rsplit(',', 1)[0])"
   ]
  },
  {
   "cell_type": "code",
   "execution_count": 51,
   "metadata": {},
   "outputs": [],
   "source": [
    "splits = df['city']"
   ]
  },
  {
   "cell_type": "code",
   "execution_count": 52,
   "metadata": {},
   "outputs": [
    {
     "data": {
      "text/plain": [
       "5                     Aberdeen\n",
       "6     Addison Airport, Addison\n",
       "7                       Albany\n",
       "8                  Albuquerque\n",
       "9                       Alpena\n",
       "10                   Anacortes\n",
       "11                   Anchorage\n",
       "12                   Annapolis\n",
       "13          Ashtabula/Conneaut\n",
       "14                     Atlanta\n",
       "15                   Baltimore\n",
       "16                      Bangor\n",
       "17                 Baton Rouge\n",
       "18      Beaufort Morehead City\n",
       "19                    Beaumont\n",
       "20                  Bellingham\n",
       "21                      Boston\n",
       "22                 Brownsville\n",
       "23                   Brunswick\n",
       "24       Buffalo Niagara Falls\n",
       "25                      Camden\n",
       "26            Carquinez Strait\n",
       "27                  Charleston\n",
       "28                  Charleston\n",
       "29            Charlotte Amalie\n",
       "30                   Charlotte\n",
       "31                 Chattanooga\n",
       "32                     Chester\n",
       "33                     Chicago\n",
       "34               Christiansted\n",
       "35                  Cincinnati\n",
       "36                   Cleveland\n",
       "37                    Columbia\n",
       "38                    Columbus\n",
       "39                    Coos Bay\n",
       "40              Corpus Christi\n",
       "41                    Crockett\n",
       "42    Dallas/Ft. Worth Airport\n",
       "43                      Dayton\n",
       "44                     Detroit\n",
       "Name: city, dtype: object"
      ]
     },
     "execution_count": 52,
     "metadata": {},
     "output_type": "execute_result"
    }
   ],
   "source": [
    "splits.head(40)"
   ]
  },
  {
   "cell_type": "code",
   "execution_count": 55,
   "metadata": {},
   "outputs": [
    {
     "data": {
      "text/html": [
       "<div>\n",
       "<style scoped>\n",
       "    .dataframe tbody tr th:only-of-type {\n",
       "        vertical-align: middle;\n",
       "    }\n",
       "\n",
       "    .dataframe tbody tr th {\n",
       "        vertical-align: top;\n",
       "    }\n",
       "\n",
       "    .dataframe thead th {\n",
       "        text-align: right;\n",
       "    }\n",
       "</style>\n",
       "<table border=\"1\" class=\"dataframe\">\n",
       "  <thead>\n",
       "    <tr style=\"text-align: right;\">\n",
       "      <th></th>\n",
       "      <th>port_of_unlading</th>\n",
       "      <th>first</th>\n",
       "      <th>state</th>\n",
       "      <th>city</th>\n",
       "    </tr>\n",
       "  </thead>\n",
       "  <tbody>\n",
       "    <tr>\n",
       "      <th>5</th>\n",
       "      <td>Aberdeen, Washington</td>\n",
       "      <td>A</td>\n",
       "      <td>Washington</td>\n",
       "      <td>Aberdeen</td>\n",
       "    </tr>\n",
       "    <tr>\n",
       "      <th>6</th>\n",
       "      <td>Addison Airport, Addison, Texas</td>\n",
       "      <td>A</td>\n",
       "      <td>Texas</td>\n",
       "      <td>Addison Airport, Addison</td>\n",
       "    </tr>\n",
       "    <tr>\n",
       "      <th>7</th>\n",
       "      <td>Albany, New York</td>\n",
       "      <td>A</td>\n",
       "      <td>New York</td>\n",
       "      <td>Albany</td>\n",
       "    </tr>\n",
       "    <tr>\n",
       "      <th>8</th>\n",
       "      <td>Albuquerque, New Mexico</td>\n",
       "      <td>A</td>\n",
       "      <td>New Mexico</td>\n",
       "      <td>Albuquerque</td>\n",
       "    </tr>\n",
       "    <tr>\n",
       "      <th>9</th>\n",
       "      <td>Alpena, Michigan</td>\n",
       "      <td>A</td>\n",
       "      <td>Michigan</td>\n",
       "      <td>Alpena</td>\n",
       "    </tr>\n",
       "  </tbody>\n",
       "</table>\n",
       "</div>"
      ],
      "text/plain": [
       "                  port_of_unlading first        state  \\\n",
       "5             Aberdeen, Washington     A   Washington   \n",
       "6  Addison Airport, Addison, Texas     A        Texas   \n",
       "7                 Albany, New York     A     New York   \n",
       "8          Albuquerque, New Mexico     A   New Mexico   \n",
       "9                 Alpena, Michigan     A     Michigan   \n",
       "\n",
       "                       city  \n",
       "5                  Aberdeen  \n",
       "6  Addison Airport, Addison  \n",
       "7                    Albany  \n",
       "8               Albuquerque  \n",
       "9                    Alpena  "
      ]
     },
     "execution_count": 55,
     "metadata": {},
     "output_type": "execute_result"
    }
   ],
   "source": [
    "df.head()"
   ]
  },
  {
   "cell_type": "code",
   "execution_count": 58,
   "metadata": {},
   "outputs": [],
   "source": [
    "df = df.drop(columns=[\"first\", \"port_of_unlading\"])"
   ]
  },
  {
   "cell_type": "code",
   "execution_count": 59,
   "metadata": {},
   "outputs": [
    {
     "data": {
      "text/html": [
       "<div>\n",
       "<style scoped>\n",
       "    .dataframe tbody tr th:only-of-type {\n",
       "        vertical-align: middle;\n",
       "    }\n",
       "\n",
       "    .dataframe tbody tr th {\n",
       "        vertical-align: top;\n",
       "    }\n",
       "\n",
       "    .dataframe thead th {\n",
       "        text-align: right;\n",
       "    }\n",
       "</style>\n",
       "<table border=\"1\" class=\"dataframe\">\n",
       "  <thead>\n",
       "    <tr style=\"text-align: right;\">\n",
       "      <th></th>\n",
       "      <th>state</th>\n",
       "      <th>city</th>\n",
       "    </tr>\n",
       "  </thead>\n",
       "  <tbody>\n",
       "    <tr>\n",
       "      <th>5</th>\n",
       "      <td>Washington</td>\n",
       "      <td>Aberdeen</td>\n",
       "    </tr>\n",
       "    <tr>\n",
       "      <th>6</th>\n",
       "      <td>Texas</td>\n",
       "      <td>Addison Airport, Addison</td>\n",
       "    </tr>\n",
       "    <tr>\n",
       "      <th>7</th>\n",
       "      <td>New York</td>\n",
       "      <td>Albany</td>\n",
       "    </tr>\n",
       "    <tr>\n",
       "      <th>8</th>\n",
       "      <td>New Mexico</td>\n",
       "      <td>Albuquerque</td>\n",
       "    </tr>\n",
       "    <tr>\n",
       "      <th>9</th>\n",
       "      <td>Michigan</td>\n",
       "      <td>Alpena</td>\n",
       "    </tr>\n",
       "  </tbody>\n",
       "</table>\n",
       "</div>"
      ],
      "text/plain": [
       "         state                      city\n",
       "5   Washington                  Aberdeen\n",
       "6        Texas  Addison Airport, Addison\n",
       "7     New York                    Albany\n",
       "8   New Mexico               Albuquerque\n",
       "9     Michigan                    Alpena"
      ]
     },
     "execution_count": 59,
     "metadata": {},
     "output_type": "execute_result"
    }
   ],
   "source": [
    "df.head()"
   ]
  }
 ],
 "metadata": {
  "kernelspec": {
   "display_name": "Python 3",
   "language": "python",
   "name": "python3"
  },
  "language_info": {
   "codemirror_mode": {
    "name": "ipython",
    "version": 3
   },
   "file_extension": ".py",
   "mimetype": "text/x-python",
   "name": "python",
   "nbconvert_exporter": "python",
   "pygments_lexer": "ipython3",
   "version": "3.11.4"
  },
  "orig_nbformat": 4
 },
 "nbformat": 4,
 "nbformat_minor": 2
}
