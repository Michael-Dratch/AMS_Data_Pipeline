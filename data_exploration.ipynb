{
 "cells": [
  {
   "cell_type": "code",
   "execution_count": 1,
   "metadata": {},
   "outputs": [],
   "source": [
    "import pandas as pd\n",
    "import re"
   ]
  },
  {
   "cell_type": "code",
   "execution_count": 2,
   "metadata": {},
   "outputs": [],
   "source": [
    "cargo = pd.read_csv(\"C:\\\\Users\\\\Owner\\\\Desktop\\\\AMS_DATA\\\\cargodesc\\\\ams__cargodesc_2020__202009291500_part_0.csv\")"
   ]
  },
  {
   "cell_type": "code",
   "execution_count": 3,
   "metadata": {},
   "outputs": [
    {
     "name": "stdout",
     "output_type": "stream",
     "text": [
      "<class 'pandas.core.frame.DataFrame'>\n",
      "RangeIndex: 10000000 entries, 0 to 9999999\n",
      "Data columns (total 5 columns):\n",
      " #   Column                       Dtype  \n",
      "---  ------                       -----  \n",
      " 0   identifier                   int64  \n",
      " 1   container_number             object \n",
      " 2   description_sequence_number  int64  \n",
      " 3   piece_count                  float64\n",
      " 4   description_text             object \n",
      "dtypes: float64(1), int64(2), object(2)\n",
      "memory usage: 381.5+ MB\n"
     ]
    }
   ],
   "source": [
    "cargo.info()"
   ]
  },
  {
   "cell_type": "code",
   "execution_count": 4,
   "metadata": {},
   "outputs": [],
   "source": [
    "cargo = cargo.drop_duplicates()"
   ]
  },
  {
   "cell_type": "code",
   "execution_count": 5,
   "metadata": {},
   "outputs": [],
   "source": [
    "cargo[\"description_text\"] = cargo['description_text'].str.lower()"
   ]
  },
  {
   "cell_type": "code",
   "execution_count": 6,
   "metadata": {},
   "outputs": [],
   "source": [
    "#Drop rows with no description text\n",
    "cargo = cargo.dropna(subset=['description_text'])"
   ]
  },
  {
   "cell_type": "code",
   "execution_count": 7,
   "metadata": {},
   "outputs": [],
   "source": [
    "#remove rows without letters in the description text\n",
    "letters = r'[A-Za-z]'\n",
    "has_letters_mask = cargo[\"description_text\"].str.contains(letters)"
   ]
  },
  {
   "cell_type": "code",
   "execution_count": 8,
   "metadata": {},
   "outputs": [],
   "source": [
    "filtered_cargo = cargo[has_letters_mask]"
   ]
  },
  {
   "cell_type": "code",
   "execution_count": 9,
   "metadata": {},
   "outputs": [],
   "source": [
    "filtered_cargo[\"description_text\"] = filtered_cargo['description_text'].str.replace('[^\\sa-zA-Z]', '')"
   ]
  },
  {
   "cell_type": "code",
   "execution_count": 10,
   "metadata": {},
   "outputs": [],
   "source": [
    "grouped = filtered_cargo.groupby(\"description_text\", as_index=False)"
   ]
  },
  {
   "cell_type": "code",
   "execution_count": 11,
   "metadata": {},
   "outputs": [],
   "source": [
    "group_counts = grouped.count()"
   ]
  },
  {
   "cell_type": "code",
   "execution_count": 43,
   "metadata": {},
   "outputs": [],
   "source": [
    "banana_rows = group_counts[group_counts[\"description_text\"].str.contains('banana')]"
   ]
  },
  {
   "cell_type": "code",
   "execution_count": null,
   "metadata": {},
   "outputs": [],
   "source": [
    "banana_rows = banana_rows.sort_values('identifier', ascending=False)"
   ]
  },
  {
   "cell_type": "code",
   "execution_count": 45,
   "metadata": {},
   "outputs": [
    {
     "data": {
      "text/html": [
       "<div>\n",
       "<style scoped>\n",
       "    .dataframe tbody tr th:only-of-type {\n",
       "        vertical-align: middle;\n",
       "    }\n",
       "\n",
       "    .dataframe tbody tr th {\n",
       "        vertical-align: top;\n",
       "    }\n",
       "\n",
       "    .dataframe thead th {\n",
       "        text-align: right;\n",
       "    }\n",
       "</style>\n",
       "<table border=\"1\" class=\"dataframe\">\n",
       "  <thead>\n",
       "    <tr style=\"text-align: right;\">\n",
       "      <th></th>\n",
       "      <th>description_text</th>\n",
       "      <th>identifier</th>\n",
       "      <th>container_number</th>\n",
       "      <th>description_sequence_number</th>\n",
       "      <th>piece_count</th>\n",
       "    </tr>\n",
       "  </thead>\n",
       "  <tbody>\n",
       "    <tr>\n",
       "      <th>1439</th>\n",
       "      <td>\"banana gross w. 19913 kg inc ludes cardboard ...</td>\n",
       "      <td>11</td>\n",
       "      <td>11</td>\n",
       "      <td>11</td>\n",
       "      <td>11</td>\n",
       "    </tr>\n",
       "    <tr>\n",
       "      <th>1440</th>\n",
       "      <td>\"banana gross w. 20211 kg inc ludes cardboard ...</td>\n",
       "      <td>31</td>\n",
       "      <td>31</td>\n",
       "      <td>31</td>\n",
       "      <td>31</td>\n",
       "    </tr>\n",
       "    <tr>\n",
       "      <th>1441</th>\n",
       "      <td>\"banana gross w. 20962 kg inc ludes cardboard ...</td>\n",
       "      <td>7</td>\n",
       "      <td>7</td>\n",
       "      <td>7</td>\n",
       "      <td>7</td>\n",
       "    </tr>\n",
       "    <tr>\n",
       "      <th>1442</th>\n",
       "      <td>\"banana gross w. 20962 kg includes cardboard b...</td>\n",
       "      <td>9</td>\n",
       "      <td>9</td>\n",
       "      <td>9</td>\n",
       "      <td>9</td>\n",
       "    </tr>\n",
       "    <tr>\n",
       "      <th>1443</th>\n",
       "      <td>\"banana gross w. 21954 kg inc ludes cardboard ...</td>\n",
       "      <td>4</td>\n",
       "      <td>4</td>\n",
       "      <td>4</td>\n",
       "      <td>4</td>\n",
       "    </tr>\n",
       "    <tr>\n",
       "      <th>1444</th>\n",
       "      <td>\"banana gross w. 22045 kg inc ludes cardboard ...</td>\n",
       "      <td>2</td>\n",
       "      <td>2</td>\n",
       "      <td>2</td>\n",
       "      <td>2</td>\n",
       "    </tr>\n",
       "    <tr>\n",
       "      <th>1445</th>\n",
       "      <td>\"banana gross w. 22134 kg inc ludes cardboard ...</td>\n",
       "      <td>2</td>\n",
       "      <td>2</td>\n",
       "      <td>2</td>\n",
       "      <td>2</td>\n",
       "    </tr>\n",
       "    <tr>\n",
       "      <th>1446</th>\n",
       "      <td>\"banana gross w. 22135 kg inc ludes cardboard ...</td>\n",
       "      <td>1</td>\n",
       "      <td>1</td>\n",
       "      <td>1</td>\n",
       "      <td>1</td>\n",
       "    </tr>\n",
       "    <tr>\n",
       "      <th>1447</th>\n",
       "      <td>\"banana gross w. 22587 kg in cludes cardboard ...</td>\n",
       "      <td>1</td>\n",
       "      <td>1</td>\n",
       "      <td>1</td>\n",
       "      <td>0</td>\n",
       "    </tr>\n",
       "    <tr>\n",
       "      <th>1448</th>\n",
       "      <td>\"banana gross w. 22587 kg inc ludes cardboard ...</td>\n",
       "      <td>80</td>\n",
       "      <td>80</td>\n",
       "      <td>80</td>\n",
       "      <td>0</td>\n",
       "    </tr>\n",
       "    <tr>\n",
       "      <th>1449</th>\n",
       "      <td>\"banana gross w. 24845 kg inc ludes cardboard ...</td>\n",
       "      <td>1</td>\n",
       "      <td>1</td>\n",
       "      <td>1</td>\n",
       "      <td>1</td>\n",
       "    </tr>\n",
       "    <tr>\n",
       "      <th>1516</th>\n",
       "      <td>\"boxes of fresh green cavendis h organic banan...</td>\n",
       "      <td>2</td>\n",
       "      <td>2</td>\n",
       "      <td>2</td>\n",
       "      <td>2</td>\n",
       "    </tr>\n",
       "    <tr>\n",
       "      <th>2881</th>\n",
       "      <td>\"freight collect\" to be continued.... descript...</td>\n",
       "      <td>4</td>\n",
       "      <td>4</td>\n",
       "      <td>4</td>\n",
       "      <td>0</td>\n",
       "    </tr>\n",
       "    <tr>\n",
       "      <th>29850</th>\n",
       "      <td>\"shipper's load, count &amp; seal\" (763ctns) cy / ...</td>\n",
       "      <td>1</td>\n",
       "      <td>1</td>\n",
       "      <td>1</td>\n",
       "      <td>1</td>\n",
       "    </tr>\n",
       "    <tr>\n",
       "      <th>32762</th>\n",
       "      <td>\"shipper's load, count &amp; sealed\" 2 x 40'hc con...</td>\n",
       "      <td>2</td>\n",
       "      <td>2</td>\n",
       "      <td>2</td>\n",
       "      <td>2</td>\n",
       "    </tr>\n",
       "    <tr>\n",
       "      <th>34724</th>\n",
       "      <td>\"spatula beads wood 5 colors w/parts umbrella ...</td>\n",
       "      <td>1</td>\n",
       "      <td>1</td>\n",
       "      <td>1</td>\n",
       "      <td>1</td>\n",
       "    </tr>\n",
       "    <tr>\n",
       "      <th>37076</th>\n",
       "      <td>#4011/fresh bananas 960 piece(s) 00960 ctn #40...</td>\n",
       "      <td>1</td>\n",
       "      <td>1</td>\n",
       "      <td>1</td>\n",
       "      <td>1</td>\n",
       "    </tr>\n",
       "    <tr>\n",
       "      <th>37077</th>\n",
       "      <td>#4011/fresh bananas product o f guatemala vent...</td>\n",
       "      <td>2</td>\n",
       "      <td>2</td>\n",
       "      <td>2</td>\n",
       "      <td>2</td>\n",
       "    </tr>\n",
       "    <tr>\n",
       "      <th>37078</th>\n",
       "      <td>#4011/fresh bananas product of guatemala vent ...</td>\n",
       "      <td>1</td>\n",
       "      <td>1</td>\n",
       "      <td>1</td>\n",
       "      <td>1</td>\n",
       "    </tr>\n",
       "    <tr>\n",
       "      <th>37079</th>\n",
       "      <td>#4011/fresh bananas product of guatemala vent ...</td>\n",
       "      <td>1</td>\n",
       "      <td>1</td>\n",
       "      <td>1</td>\n",
       "      <td>1</td>\n",
       "    </tr>\n",
       "    <tr>\n",
       "      <th>37080</th>\n",
       "      <td>#4011/fresh bananas product of guatemala vent ...</td>\n",
       "      <td>1</td>\n",
       "      <td>1</td>\n",
       "      <td>1</td>\n",
       "      <td>1</td>\n",
       "    </tr>\n",
       "    <tr>\n",
       "      <th>37081</th>\n",
       "      <td>#4011/fresh bananas product of guatemala vent ...</td>\n",
       "      <td>1</td>\n",
       "      <td>1</td>\n",
       "      <td>1</td>\n",
       "      <td>1</td>\n",
       "    </tr>\n",
       "    <tr>\n",
       "      <th>37082</th>\n",
       "      <td>#4011/fresh bananas product of guatemala vent ...</td>\n",
       "      <td>1</td>\n",
       "      <td>1</td>\n",
       "      <td>1</td>\n",
       "      <td>1</td>\n",
       "    </tr>\n",
       "    <tr>\n",
       "      <th>37083</th>\n",
       "      <td>#4011/fresh bananas product of guatemala vent ...</td>\n",
       "      <td>1</td>\n",
       "      <td>1</td>\n",
       "      <td>1</td>\n",
       "      <td>1</td>\n",
       "    </tr>\n",
       "    <tr>\n",
       "      <th>37084</th>\n",
       "      <td>#4011/fresh bananas product of guatemala vent ...</td>\n",
       "      <td>1</td>\n",
       "      <td>1</td>\n",
       "      <td>1</td>\n",
       "      <td>1</td>\n",
       "    </tr>\n",
       "  </tbody>\n",
       "</table>\n",
       "</div>"
      ],
      "text/plain": [
       "                                        description_text  identifier  \\\n",
       "1439   \"banana gross w. 19913 kg inc ludes cardboard ...          11   \n",
       "1440   \"banana gross w. 20211 kg inc ludes cardboard ...          31   \n",
       "1441   \"banana gross w. 20962 kg inc ludes cardboard ...           7   \n",
       "1442   \"banana gross w. 20962 kg includes cardboard b...           9   \n",
       "1443   \"banana gross w. 21954 kg inc ludes cardboard ...           4   \n",
       "1444   \"banana gross w. 22045 kg inc ludes cardboard ...           2   \n",
       "1445   \"banana gross w. 22134 kg inc ludes cardboard ...           2   \n",
       "1446   \"banana gross w. 22135 kg inc ludes cardboard ...           1   \n",
       "1447   \"banana gross w. 22587 kg in cludes cardboard ...           1   \n",
       "1448   \"banana gross w. 22587 kg inc ludes cardboard ...          80   \n",
       "1449   \"banana gross w. 24845 kg inc ludes cardboard ...           1   \n",
       "1516   \"boxes of fresh green cavendis h organic banan...           2   \n",
       "2881   \"freight collect\" to be continued.... descript...           4   \n",
       "29850  \"shipper's load, count & seal\" (763ctns) cy / ...           1   \n",
       "32762  \"shipper's load, count & sealed\" 2 x 40'hc con...           2   \n",
       "34724  \"spatula beads wood 5 colors w/parts umbrella ...           1   \n",
       "37076  #4011/fresh bananas 960 piece(s) 00960 ctn #40...           1   \n",
       "37077  #4011/fresh bananas product o f guatemala vent...           2   \n",
       "37078  #4011/fresh bananas product of guatemala vent ...           1   \n",
       "37079  #4011/fresh bananas product of guatemala vent ...           1   \n",
       "37080  #4011/fresh bananas product of guatemala vent ...           1   \n",
       "37081  #4011/fresh bananas product of guatemala vent ...           1   \n",
       "37082  #4011/fresh bananas product of guatemala vent ...           1   \n",
       "37083  #4011/fresh bananas product of guatemala vent ...           1   \n",
       "37084  #4011/fresh bananas product of guatemala vent ...           1   \n",
       "\n",
       "       container_number  description_sequence_number  piece_count  \n",
       "1439                 11                           11           11  \n",
       "1440                 31                           31           31  \n",
       "1441                  7                            7            7  \n",
       "1442                  9                            9            9  \n",
       "1443                  4                            4            4  \n",
       "1444                  2                            2            2  \n",
       "1445                  2                            2            2  \n",
       "1446                  1                            1            1  \n",
       "1447                  1                            1            0  \n",
       "1448                 80                           80            0  \n",
       "1449                  1                            1            1  \n",
       "1516                  2                            2            2  \n",
       "2881                  4                            4            0  \n",
       "29850                 1                            1            1  \n",
       "32762                 2                            2            2  \n",
       "34724                 1                            1            1  \n",
       "37076                 1                            1            1  \n",
       "37077                 2                            2            2  \n",
       "37078                 1                            1            1  \n",
       "37079                 1                            1            1  \n",
       "37080                 1                            1            1  \n",
       "37081                 1                            1            1  \n",
       "37082                 1                            1            1  \n",
       "37083                 1                            1            1  \n",
       "37084                 1                            1            1  "
      ]
     },
     "execution_count": 45,
     "metadata": {},
     "output_type": "execute_result"
    }
   ],
   "source": [
    "banana_rows.head(25)"
   ]
  },
  {
   "cell_type": "code",
   "execution_count": 12,
   "metadata": {},
   "outputs": [],
   "source": [
    "sorted = group_counts.sort_values(by=\"identifier\", ascending=False)"
   ]
  },
  {
   "cell_type": "code",
   "execution_count": 13,
   "metadata": {},
   "outputs": [
    {
     "name": "stdout",
     "output_type": "stream",
     "text": [
      "<class 'pandas.core.frame.DataFrame'>\n",
      "Index: 4044642 entries, 1660835 to 4044641\n",
      "Data columns (total 5 columns):\n",
      " #   Column                       Dtype \n",
      "---  ------                       ----- \n",
      " 0   description_text             object\n",
      " 1   identifier                   int64 \n",
      " 2   container_number             int64 \n",
      " 3   description_sequence_number  int64 \n",
      " 4   piece_count                  int64 \n",
      "dtypes: int64(4), object(1)\n",
      "memory usage: 185.1+ MB\n"
     ]
    }
   ],
   "source": [
    "sorted.info()"
   ]
  },
  {
   "cell_type": "code",
   "execution_count": 14,
   "metadata": {},
   "outputs": [],
   "source": [
    "empty_container_pattern = r'.*empty.*'\n",
    "filtered_cargo = sorted[~(sorted['description_text'].str.contains(empty_container_pattern))]"
   ]
  },
  {
   "cell_type": "code",
   "execution_count": 15,
   "metadata": {},
   "outputs": [
    {
     "name": "stderr",
     "output_type": "stream",
     "text": [
      "C:\\Users\\Owner\\AppData\\Local\\Temp\\ipykernel_3600\\3221904309.py:2: UserWarning: Boolean Series key will be reindexed to match DataFrame index.\n",
      "  filtered_cargo = filtered_cargo[~(sorted['description_text'].str.contains(none_pattern))]\n"
     ]
    }
   ],
   "source": [
    "none_pattern = r'.*none.*'\n",
    "filtered_cargo = filtered_cargo[~(sorted['description_text'].str.contains(none_pattern))]"
   ]
  },
  {
   "cell_type": "code",
   "execution_count": 16,
   "metadata": {},
   "outputs": [
    {
     "name": "stderr",
     "output_type": "stream",
     "text": [
      "C:\\Users\\Owner\\AppData\\Local\\Temp\\ipykernel_3600\\3998174313.py:2: UserWarning: Boolean Series key will be reindexed to match DataFrame index.\n",
      "  filtered_cargo = filtered_cargo[~(sorted['description_text'].str.contains(pattern))]\n"
     ]
    }
   ],
   "source": [
    "pattern = r'.*the same.*'\n",
    "filtered_cargo = filtered_cargo[~(sorted['description_text'].str.contains(pattern))]"
   ]
  },
  {
   "cell_type": "code",
   "execution_count": null,
   "metadata": {},
   "outputs": [],
   "source": []
  },
  {
   "cell_type": "code",
   "execution_count": null,
   "metadata": {},
   "outputs": [],
   "source": []
  },
  {
   "cell_type": "code",
   "execution_count": null,
   "metadata": {},
   "outputs": [],
   "source": [
    "filtered_cargo.head(50)"
   ]
  },
  {
   "cell_type": "code",
   "execution_count": 18,
   "metadata": {},
   "outputs": [],
   "source": [
    "filtered_cargo = filtered_cargo.rename(columns={\"identifier\": \"count\"})"
   ]
  },
  {
   "cell_type": "code",
   "execution_count": 20,
   "metadata": {},
   "outputs": [],
   "source": [
    "filtered_cargo = filtered_cargo[['description_text', 'count']]"
   ]
  },
  {
   "cell_type": "code",
   "execution_count": 32,
   "metadata": {},
   "outputs": [
    {
     "data": {
      "text/html": [
       "<div>\n",
       "<style scoped>\n",
       "    .dataframe tbody tr th:only-of-type {\n",
       "        vertical-align: middle;\n",
       "    }\n",
       "\n",
       "    .dataframe tbody tr th {\n",
       "        vertical-align: top;\n",
       "    }\n",
       "\n",
       "    .dataframe thead th {\n",
       "        text-align: right;\n",
       "    }\n",
       "</style>\n",
       "<table border=\"1\" class=\"dataframe\">\n",
       "  <thead>\n",
       "    <tr style=\"text-align: right;\">\n",
       "      <th></th>\n",
       "      <th>description_text</th>\n",
       "      <th>count</th>\n",
       "    </tr>\n",
       "  </thead>\n",
       "  <tbody>\n",
       "    <tr>\n",
       "      <th>1243683</th>\n",
       "      <td>car parts</td>\n",
       "      <td>29492</td>\n",
       "    </tr>\n",
       "    <tr>\n",
       "      <th>1776060</th>\n",
       "      <td>footwear</td>\n",
       "      <td>26220</td>\n",
       "    </tr>\n",
       "    <tr>\n",
       "      <th>1147694</th>\n",
       "      <td>bmw automotive parts</td>\n",
       "      <td>24364</td>\n",
       "    </tr>\n",
       "    <tr>\n",
       "      <th>1047416</th>\n",
       "      <td>automotive parts</td>\n",
       "      <td>20430</td>\n",
       "    </tr>\n",
       "    <tr>\n",
       "      <th>3695751</th>\n",
       "      <td>tires</td>\n",
       "      <td>20040</td>\n",
       "    </tr>\n",
       "  </tbody>\n",
       "</table>\n",
       "</div>"
      ],
      "text/plain": [
       "             description_text  count\n",
       "1243683             car parts  29492\n",
       "1776060              footwear  26220\n",
       "1147694  bmw automotive parts  24364\n",
       "1047416      automotive parts  20430\n",
       "3695751                 tires  20040"
      ]
     },
     "execution_count": 32,
     "metadata": {},
     "output_type": "execute_result"
    }
   ],
   "source": [
    "filtered_cargo.head()"
   ]
  },
  {
   "cell_type": "code",
   "execution_count": 33,
   "metadata": {},
   "outputs": [],
   "source": [
    "parts_row = filtered_cargo[filtered_cargo['description_text'].str.contains(r'parts')]"
   ]
  },
  {
   "cell_type": "code",
   "execution_count": null,
   "metadata": {},
   "outputs": [],
   "source": [
    "parts_row[\"description_text\"] = parts_row[\"description_text\"].str.replace('new', '')\n",
    "parts_row[\"description_text\"] = parts_row[\"description_text\"].str.replace('spare', '')\n",
    "parts_row[\"description_text\"] = parts_row[\"description_text\"].str.replace('\\s+', ' ')\n",
    "\n",
    "\n"
   ]
  },
  {
   "cell_type": "code",
   "execution_count": 36,
   "metadata": {},
   "outputs": [],
   "source": [
    "groups = parts_row.groupby(\"description_text\", as_index=False)"
   ]
  },
  {
   "cell_type": "code",
   "execution_count": 41,
   "metadata": {},
   "outputs": [],
   "source": [
    "parts_row = groups.sum('count').sort_values('count', ascending=False)"
   ]
  },
  {
   "cell_type": "code",
   "execution_count": 42,
   "metadata": {},
   "outputs": [
    {
     "data": {
      "text/html": [
       "<div>\n",
       "<style scoped>\n",
       "    .dataframe tbody tr th:only-of-type {\n",
       "        vertical-align: middle;\n",
       "    }\n",
       "\n",
       "    .dataframe tbody tr th {\n",
       "        vertical-align: top;\n",
       "    }\n",
       "\n",
       "    .dataframe thead th {\n",
       "        text-align: right;\n",
       "    }\n",
       "</style>\n",
       "<table border=\"1\" class=\"dataframe\">\n",
       "  <thead>\n",
       "    <tr style=\"text-align: right;\">\n",
       "      <th></th>\n",
       "      <th>description_text</th>\n",
       "      <th>count</th>\n",
       "    </tr>\n",
       "  </thead>\n",
       "  <tbody>\n",
       "    <tr>\n",
       "      <th>76376</th>\n",
       "      <td>car parts</td>\n",
       "      <td>29492</td>\n",
       "    </tr>\n",
       "    <tr>\n",
       "      <th>71903</th>\n",
       "      <td>bmw automotive parts</td>\n",
       "      <td>24364</td>\n",
       "    </tr>\n",
       "    <tr>\n",
       "      <th>61341</th>\n",
       "      <td>automotive parts</td>\n",
       "      <td>20432</td>\n",
       "    </tr>\n",
       "    <tr>\n",
       "      <th>47457</th>\n",
       "      <td>auto parts</td>\n",
       "      <td>7646</td>\n",
       "    </tr>\n",
       "    <tr>\n",
       "      <th>10656</th>\n",
       "      <td>parts/accessories/assembli es</td>\n",
       "      <td>2205</td>\n",
       "    </tr>\n",
       "    <tr>\n",
       "      <th>130571</th>\n",
       "      <td>parts and accessories of the motor vehicles o ...</td>\n",
       "      <td>2052</td>\n",
       "    </tr>\n",
       "    <tr>\n",
       "      <th>373</th>\n",
       "      <td>auto parts</td>\n",
       "      <td>2019</td>\n",
       "    </tr>\n",
       "    <tr>\n",
       "      <th>52234</th>\n",
       "      <td>auto parts for truck assembly</td>\n",
       "      <td>1976</td>\n",
       "    </tr>\n",
       "    <tr>\n",
       "      <th>1716</th>\n",
       "      <td>automotive  parts</td>\n",
       "      <td>1785</td>\n",
       "    </tr>\n",
       "    <tr>\n",
       "      <th>56944</th>\n",
       "      <td>automotive  parts</td>\n",
       "      <td>1723</td>\n",
       "    </tr>\n",
       "    <tr>\n",
       "      <th>46041</th>\n",
       "      <td>auto  parts</td>\n",
       "      <td>1499</td>\n",
       "    </tr>\n",
       "    <tr>\n",
       "      <th>99153</th>\n",
       "      <td>furniture parts</td>\n",
       "      <td>1495</td>\n",
       "    </tr>\n",
       "    <tr>\n",
       "      <th>80547</th>\n",
       "      <td>ckd component parts</td>\n",
       "      <td>1418</td>\n",
       "    </tr>\n",
       "    <tr>\n",
       "      <th>127974</th>\n",
       "      <td>package car parts</td>\n",
       "      <td>1288</td>\n",
       "    </tr>\n",
       "    <tr>\n",
       "      <th>4663</th>\n",
       "      <td>ckd parts for vehicle assembly</td>\n",
       "      <td>1269</td>\n",
       "    </tr>\n",
       "    <tr>\n",
       "      <th>4873</th>\n",
       "      <td>parts</td>\n",
       "      <td>1220</td>\n",
       "    </tr>\n",
       "    <tr>\n",
       "      <th>107346</th>\n",
       "      <td>hydraulic pumps-parts</td>\n",
       "      <td>1166</td>\n",
       "    </tr>\n",
       "    <tr>\n",
       "      <th>173026</th>\n",
       "      <td>toyota genuine  parts</td>\n",
       "      <td>1125</td>\n",
       "    </tr>\n",
       "    <tr>\n",
       "      <th>180007</th>\n",
       "      <td>vehicle parts</td>\n",
       "      <td>1124</td>\n",
       "    </tr>\n",
       "    <tr>\n",
       "      <th>41668</th>\n",
       "      <td>agricultural tractor parts 87089990</td>\n",
       "      <td>1117</td>\n",
       "    </tr>\n",
       "    <tr>\n",
       "      <th>56875</th>\n",
       "      <td>automobile/truck service replacemen t and ass ...</td>\n",
       "      <td>1103</td>\n",
       "    </tr>\n",
       "    <tr>\n",
       "      <th>4490</th>\n",
       "      <td>ckd parts for  vehicles assembly</td>\n",
       "      <td>1093</td>\n",
       "    </tr>\n",
       "    <tr>\n",
       "      <th>174603</th>\n",
       "      <td>tractor  parts</td>\n",
       "      <td>1061</td>\n",
       "    </tr>\n",
       "    <tr>\n",
       "      <th>82698</th>\n",
       "      <td>computer parts</td>\n",
       "      <td>1042</td>\n",
       "    </tr>\n",
       "    <tr>\n",
       "      <th>157302</th>\n",
       "      <td>refrig. and a/c equipment and parts</td>\n",
       "      <td>1025</td>\n",
       "    </tr>\n",
       "  </tbody>\n",
       "</table>\n",
       "</div>"
      ],
      "text/plain": [
       "                                         description_text  count\n",
       "76376                                           car parts  29492\n",
       "71903                                bmw automotive parts  24364\n",
       "61341                                    automotive parts  20432\n",
       "47457                                          auto parts   7646\n",
       "10656                       parts/accessories/assembli es   2205\n",
       "130571  parts and accessories of the motor vehicles o ...   2052\n",
       "373                                            auto parts   2019\n",
       "52234                       auto parts for truck assembly   1976\n",
       "1716                                    automotive  parts   1785\n",
       "56944                                   automotive  parts   1723\n",
       "46041                                         auto  parts   1499\n",
       "99153                                     furniture parts   1495\n",
       "80547                                 ckd component parts   1418\n",
       "127974                                  package car parts   1288\n",
       "4663                       ckd parts for vehicle assembly   1269\n",
       "4873                                                parts   1220\n",
       "107346                              hydraulic pumps-parts   1166\n",
       "173026                              toyota genuine  parts   1125\n",
       "180007                                      vehicle parts   1124\n",
       "41668                 agricultural tractor parts 87089990   1117\n",
       "56875   automobile/truck service replacemen t and ass ...   1103\n",
       "4490                     ckd parts for  vehicles assembly   1093\n",
       "174603                                     tractor  parts   1061\n",
       "82698                                      computer parts   1042\n",
       "157302                refrig. and a/c equipment and parts   1025"
      ]
     },
     "execution_count": 42,
     "metadata": {},
     "output_type": "execute_result"
    }
   ],
   "source": [
    "parts_row.head(25)"
   ]
  },
  {
   "cell_type": "markdown",
   "metadata": {},
   "source": []
  }
 ],
 "metadata": {
  "kernelspec": {
   "display_name": "Python 3",
   "language": "python",
   "name": "python3"
  },
  "language_info": {
   "codemirror_mode": {
    "name": "ipython",
    "version": 3
   },
   "file_extension": ".py",
   "mimetype": "text/x-python",
   "name": "python",
   "nbconvert_exporter": "python",
   "pygments_lexer": "ipython3",
   "version": "3.11.4"
  },
  "orig_nbformat": 4
 },
 "nbformat": 4,
 "nbformat_minor": 2
}
