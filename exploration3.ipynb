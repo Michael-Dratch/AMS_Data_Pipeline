{
 "cells": [
  {
   "cell_type": "code",
   "execution_count": 2,
   "metadata": {},
   "outputs": [],
   "source": [
    "import pandas as pd"
   ]
  },
  {
   "cell_type": "code",
   "execution_count": 3,
   "metadata": {},
   "outputs": [
    {
     "name": "stderr",
     "output_type": "stream",
     "text": [
      "C:\\Users\\Owner\\AppData\\Local\\Temp\\ipykernel_2144\\2952400979.py:1: DtypeWarning: Columns (3) have mixed types. Specify dtype option on import or set low_memory=False.\n",
      "  tariff = pd.read_csv(\"C:\\\\Users\\\\Owner\\\\Desktop\\\\AMS_DATA\\\\tariff\\\\ams__tariff_2020__202009291500_part_0.csv\")\n"
     ]
    }
   ],
   "source": [
    "tariff = pd.read_csv(\"C:\\\\Users\\\\Owner\\\\Desktop\\\\AMS_DATA\\\\tariff\\\\ams__tariff_2020__202009291500_part_0.csv\")"
   ]
  },
  {
   "cell_type": "code",
   "execution_count": 4,
   "metadata": {},
   "outputs": [
    {
     "data": {
      "text/html": [
       "<div>\n",
       "<style scoped>\n",
       "    .dataframe tbody tr th:only-of-type {\n",
       "        vertical-align: middle;\n",
       "    }\n",
       "\n",
       "    .dataframe tbody tr th {\n",
       "        vertical-align: top;\n",
       "    }\n",
       "\n",
       "    .dataframe thead th {\n",
       "        text-align: right;\n",
       "    }\n",
       "</style>\n",
       "<table border=\"1\" class=\"dataframe\">\n",
       "  <thead>\n",
       "    <tr style=\"text-align: right;\">\n",
       "      <th></th>\n",
       "      <th>identifier</th>\n",
       "      <th>container_number</th>\n",
       "      <th>description_sequence_number</th>\n",
       "      <th>harmonized_number</th>\n",
       "      <th>harmonized_value</th>\n",
       "      <th>harmonized_weight</th>\n",
       "      <th>harmonized_weight_unit</th>\n",
       "    </tr>\n",
       "  </thead>\n",
       "  <tbody>\n",
       "    <tr>\n",
       "      <th>0</th>\n",
       "      <td>2020010624</td>\n",
       "      <td>BMOU5228886</td>\n",
       "      <td>1</td>\n",
       "      <td>8451.0</td>\n",
       "      <td>0.0</td>\n",
       "      <td>6240</td>\n",
       "      <td>Kilograms</td>\n",
       "    </tr>\n",
       "    <tr>\n",
       "      <th>1</th>\n",
       "      <td>2020010625</td>\n",
       "      <td>DFSU6037823</td>\n",
       "      <td>1</td>\n",
       "      <td>8451.0</td>\n",
       "      <td>0.0</td>\n",
       "      <td>3720</td>\n",
       "      <td>Kilograms</td>\n",
       "    </tr>\n",
       "    <tr>\n",
       "      <th>2</th>\n",
       "      <td>2020010625</td>\n",
       "      <td>OOCU7660692</td>\n",
       "      <td>1</td>\n",
       "      <td>8451.0</td>\n",
       "      <td>0.0</td>\n",
       "      <td>3720</td>\n",
       "      <td>Kilograms</td>\n",
       "    </tr>\n",
       "    <tr>\n",
       "      <th>3</th>\n",
       "      <td>2020010645</td>\n",
       "      <td>CCLU4588527</td>\n",
       "      <td>1</td>\n",
       "      <td>37.0</td>\n",
       "      <td>0.0</td>\n",
       "      <td>11186</td>\n",
       "      <td>Kilograms</td>\n",
       "    </tr>\n",
       "    <tr>\n",
       "      <th>4</th>\n",
       "      <td>2020010647</td>\n",
       "      <td>SZLU9393339</td>\n",
       "      <td>1</td>\n",
       "      <td>37.0</td>\n",
       "      <td>0.0</td>\n",
       "      <td>18496</td>\n",
       "      <td>Kilograms</td>\n",
       "    </tr>\n",
       "  </tbody>\n",
       "</table>\n",
       "</div>"
      ],
      "text/plain": [
       "   identifier container_number  description_sequence_number harmonized_number  \\\n",
       "0  2020010624      BMOU5228886                            1            8451.0   \n",
       "1  2020010625      DFSU6037823                            1            8451.0   \n",
       "2  2020010625      OOCU7660692                            1            8451.0   \n",
       "3  2020010645      CCLU4588527                            1              37.0   \n",
       "4  2020010647      SZLU9393339                            1              37.0   \n",
       "\n",
       "   harmonized_value  harmonized_weight harmonized_weight_unit  \n",
       "0               0.0               6240              Kilograms  \n",
       "1               0.0               3720              Kilograms  \n",
       "2               0.0               3720              Kilograms  \n",
       "3               0.0              11186              Kilograms  \n",
       "4               0.0              18496              Kilograms  "
      ]
     },
     "execution_count": 4,
     "metadata": {},
     "output_type": "execute_result"
    }
   ],
   "source": [
    "tariff.head()"
   ]
  },
  {
   "cell_type": "code",
   "execution_count": 8,
   "metadata": {},
   "outputs": [],
   "source": [
    "tariff = tariff[tariff['harmonized_number'].notna()]"
   ]
  },
  {
   "cell_type": "code",
   "execution_count": 12,
   "metadata": {},
   "outputs": [],
   "source": [
    "tariff['code'] = tariff['harmonized_number'].astype('string')"
   ]
  },
  {
   "cell_type": "code",
   "execution_count": 19,
   "metadata": {},
   "outputs": [],
   "source": [
    "halfway = int(tariff.shape[0]/2)\n",
    "\n",
    "tariff = tariff.iloc[0:halfway, :]"
   ]
  },
  {
   "cell_type": "code",
   "execution_count": 20,
   "metadata": {},
   "outputs": [
    {
     "data": {
      "text/plain": [
       "4582837"
      ]
     },
     "execution_count": 20,
     "metadata": {},
     "output_type": "execute_result"
    }
   ],
   "source": []
  },
  {
   "cell_type": "code",
   "execution_count": 21,
   "metadata": {},
   "outputs": [
    {
     "name": "stderr",
     "output_type": "stream",
     "text": [
      "C:\\Users\\Owner\\AppData\\Local\\Temp\\ipykernel_2144\\2216554101.py:1: SettingWithCopyWarning: \n",
      "A value is trying to be set on a copy of a slice from a DataFrame.\n",
      "Try using .loc[row_indexer,col_indexer] = value instead\n",
      "\n",
      "See the caveats in the documentation: https://pandas.pydata.org/pandas-docs/stable/user_guide/indexing.html#returning-a-view-versus-a-copy\n",
      "  tariff['code'] = tariff['code'].str[:-2]\n"
     ]
    }
   ],
   "source": [
    "\n",
    "tariff['code'] = tariff['code'].str[:-2]"
   ]
  },
  {
   "cell_type": "code",
   "execution_count": 28,
   "metadata": {},
   "outputs": [
    {
     "data": {
      "text/html": [
       "<div>\n",
       "<style scoped>\n",
       "    .dataframe tbody tr th:only-of-type {\n",
       "        vertical-align: middle;\n",
       "    }\n",
       "\n",
       "    .dataframe tbody tr th {\n",
       "        vertical-align: top;\n",
       "    }\n",
       "\n",
       "    .dataframe thead th {\n",
       "        text-align: right;\n",
       "    }\n",
       "</style>\n",
       "<table border=\"1\" class=\"dataframe\">\n",
       "  <thead>\n",
       "    <tr style=\"text-align: right;\">\n",
       "      <th></th>\n",
       "      <th>identifier</th>\n",
       "      <th>harmonized_number</th>\n",
       "      <th>harmonized_value</th>\n",
       "      <th>harmonized_weight</th>\n",
       "      <th>harmonized_weight_unit</th>\n",
       "      <th>code</th>\n",
       "    </tr>\n",
       "  </thead>\n",
       "  <tbody>\n",
       "    <tr>\n",
       "      <th>0</th>\n",
       "      <td>2020010624</td>\n",
       "      <td>8451.0</td>\n",
       "      <td>0.0</td>\n",
       "      <td>6240</td>\n",
       "      <td>Kilograms</td>\n",
       "      <td>8451</td>\n",
       "    </tr>\n",
       "    <tr>\n",
       "      <th>1</th>\n",
       "      <td>2020010625</td>\n",
       "      <td>8451.0</td>\n",
       "      <td>0.0</td>\n",
       "      <td>3720</td>\n",
       "      <td>Kilograms</td>\n",
       "      <td>8451</td>\n",
       "    </tr>\n",
       "    <tr>\n",
       "      <th>2</th>\n",
       "      <td>2020010625</td>\n",
       "      <td>8451.0</td>\n",
       "      <td>0.0</td>\n",
       "      <td>3720</td>\n",
       "      <td>Kilograms</td>\n",
       "      <td>8451</td>\n",
       "    </tr>\n",
       "    <tr>\n",
       "      <th>3</th>\n",
       "      <td>2020010645</td>\n",
       "      <td>37.0</td>\n",
       "      <td>0.0</td>\n",
       "      <td>11186</td>\n",
       "      <td>Kilograms</td>\n",
       "      <td>37</td>\n",
       "    </tr>\n",
       "    <tr>\n",
       "      <th>4</th>\n",
       "      <td>2020010647</td>\n",
       "      <td>37.0</td>\n",
       "      <td>0.0</td>\n",
       "      <td>18496</td>\n",
       "      <td>Kilograms</td>\n",
       "      <td>37</td>\n",
       "    </tr>\n",
       "  </tbody>\n",
       "</table>\n",
       "</div>"
      ],
      "text/plain": [
       "   identifier harmonized_number  harmonized_value  harmonized_weight  \\\n",
       "0  2020010624            8451.0               0.0               6240   \n",
       "1  2020010625            8451.0               0.0               3720   \n",
       "2  2020010625            8451.0               0.0               3720   \n",
       "3  2020010645              37.0               0.0              11186   \n",
       "4  2020010647              37.0               0.0              18496   \n",
       "\n",
       "  harmonized_weight_unit  code  \n",
       "0              Kilograms  8451  \n",
       "1              Kilograms  8451  \n",
       "2              Kilograms  8451  \n",
       "3              Kilograms    37  \n",
       "4              Kilograms    37  "
      ]
     },
     "execution_count": 28,
     "metadata": {},
     "output_type": "execute_result"
    }
   ],
   "source": [
    "\n",
    "tariff = tariff.drop(columns=['description_sequence_number', 'container_number'])\n",
    "tariff.head()"
   ]
  },
  {
   "cell_type": "code",
   "execution_count": 29,
   "metadata": {},
   "outputs": [],
   "source": [
    "import re"
   ]
  },
  {
   "cell_type": "code",
   "execution_count": null,
   "metadata": {},
   "outputs": [],
   "source": [
    "tariff = tariff[re.match(r'^01.*', tariff['code'].str) ]"
   ]
  }
 ],
 "metadata": {
  "kernelspec": {
   "display_name": "Python 3",
   "language": "python",
   "name": "python3"
  },
  "language_info": {
   "codemirror_mode": {
    "name": "ipython",
    "version": 3
   },
   "file_extension": ".py",
   "mimetype": "text/x-python",
   "name": "python",
   "nbconvert_exporter": "python",
   "pygments_lexer": "ipython3",
   "version": "3.11.4"
  },
  "orig_nbformat": 4
 },
 "nbformat": 4,
 "nbformat_minor": 2
}
